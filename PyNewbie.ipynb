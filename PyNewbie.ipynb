{
 "cells": [
  {
   "cell_type": "markdown",
   "id": "cd7418e4",
   "metadata": {},
   "source": [
    "# Bai 1: Viết vòng lặp chạy từ 1 đến 100 và chia thành 10 dòng"
   ]
  },
  {
   "cell_type": "code",
   "execution_count": 1,
   "id": "ea13bddb",
   "metadata": {},
   "outputs": [
    {
     "name": "stdout",
     "output_type": "stream",
     "text": [
      "1 2 3 4 5 6 7 8 9 10 \n",
      "11 12 13 14 15 16 17 18 19 20 \n",
      "21 22 23 24 25 26 27 28 29 30 \n",
      "31 32 33 34 35 36 37 38 39 40 \n",
      "41 42 43 44 45 46 47 48 49 50 \n",
      "51 52 53 54 55 56 57 58 59 60 \n",
      "61 62 63 64 65 66 67 68 69 70 \n",
      "71 72 73 74 75 76 77 78 79 80 \n",
      "81 82 83 84 85 86 87 88 89 90 \n",
      "91 92 93 94 95 96 97 98 99 "
     ]
    }
   ],
   "source": [
    "for i in range(1,100):\n",
    "    print(i,end=\" \")\n",
    "    if (i %10 ==0):\n",
    "        print(\"\")"
   ]
  },
  {
   "cell_type": "markdown",
   "id": "a93c1e6c",
   "metadata": {},
   "source": [
    "# Bai 2: viết vòng lặp từ 0 đến 200 --> in số chẵn. Chia 10 dòng xếp cột thẳng hàng"
   ]
  },
  {
   "cell_type": "code",
   "execution_count": 2,
   "id": "38392924",
   "metadata": {},
   "outputs": [
    {
     "name": "stdout",
     "output_type": "stream",
     "text": [
      "  0 \n",
      "  2   4   6   8  10  12  14  16  18  20 \n",
      " 22  24  26  28  30  32  34  36  38  40 \n",
      " 42  44  46  48  50  52  54  56  58  60 \n",
      " 62  64  66  68  70  72  74  76  78  80 \n",
      " 82  84  86  88  90  92  94  96  98 100 \n",
      "102 104 106 108 110 112 114 116 118 120 \n",
      "122 124 126 128 130 132 134 136 138 140 \n",
      "142 144 146 148 150 152 154 156 158 160 \n",
      "162 164 166 168 170 172 174 176 178 180 \n",
      "182 184 186 188 190 192 194 196 198 "
     ]
    }
   ],
   "source": [
    "for i in range(0,200):\n",
    "    if (i % 2 == 0):\n",
    "        print(\"{:>3}\".format(str(i)),end=\" \")\n",
    "        if i % 20==0:\n",
    "            print(\"\")"
   ]
  },
  {
   "cell_type": "markdown",
   "id": "e1926006",
   "metadata": {},
   "source": [
    "# Bai 3: Xây dựng hàm ktra số Ng tố, trả True nếu là SNT, ngược lại False"
   ]
  },
  {
   "cell_type": "code",
   "execution_count": 3,
   "id": "2032eb37",
   "metadata": {},
   "outputs": [],
   "source": [
    "def KtraNT(n):\n",
    "    if n<=1:\n",
    "        return False\n",
    "    else:\n",
    "        for i in range(2,n):\n",
    "            if n % i ==0:\n",
    "               return False\n",
    "        return True"
   ]
  },
  {
   "cell_type": "code",
   "execution_count": 4,
   "id": "1aff3bfb",
   "metadata": {},
   "outputs": [
    {
     "data": {
      "text/plain": [
       "True"
      ]
     },
     "execution_count": 4,
     "metadata": {},
     "output_type": "execute_result"
    }
   ],
   "source": [
    "KtraNT(7)"
   ]
  },
  {
   "cell_type": "code",
   "execution_count": 5,
   "id": "e86d0913",
   "metadata": {},
   "outputs": [
    {
     "data": {
      "text/plain": [
       "False"
      ]
     },
     "execution_count": 5,
     "metadata": {},
     "output_type": "execute_result"
    }
   ],
   "source": [
    "KtraNT(4)"
   ]
  },
  {
   "cell_type": "markdown",
   "id": "8a59460e",
   "metadata": {},
   "source": [
    "# Bài 4: Hàm chạy từ 1 đến 1000 và chỉ in ra khi là số nguyên tố. Xuất ra là cột đều nhau"
   ]
  },
  {
   "cell_type": "code",
   "execution_count": 6,
   "id": "fcc99f1b",
   "metadata": {},
   "outputs": [
    {
     "name": "stdout",
     "output_type": "stream",
     "text": [
      "  2   3   5   7  11  13  17  19  23  29 \n",
      " 31  37  41  43  47  53  59  61  67  71 \n",
      " 73  79  83  89  97 101 103 107 109 113 \n",
      "127 131 137 139 149 151 157 163 167 173 \n",
      "179 181 191 193 197 199 211 223 227 229 \n",
      "233 239 241 251 257 263 269 271 277 281 \n",
      "283 293 307 311 313 317 331 337 347 349 \n",
      "353 359 367 373 379 383 389 397 401 409 \n",
      "419 421 431 433 439 443 449 457 461 463 \n",
      "467 479 487 491 499 503 509 521 523 541 \n",
      "547 557 563 569 571 577 587 593 599 601 \n",
      "607 613 617 619 631 641 643 647 653 659 \n",
      "661 673 677 683 691 701 709 719 727 733 \n",
      "739 743 751 757 761 769 773 787 797 809 \n",
      "811 821 823 827 829 839 853 857 859 863 \n",
      "877 881 883 887 907 911 919 929 937 941 \n",
      "947 953 967 971 977 983 991 997 "
     ]
    }
   ],
   "source": [
    "def KtraNT(n):\n",
    "    if n<=1:\n",
    "        return False\n",
    "    else:\n",
    "        for i in range(2,n):\n",
    "            if n % i ==0:\n",
    "               return False\n",
    "        return True\n",
    "dem=0\n",
    "for i in range(1,1000):\n",
    "    if KtraNT(i):\n",
    "        print(\"{:>3}\".format(str(i)), end=\" \")\n",
    "        dem+=1\n",
    "        if dem % 10 == 0:\n",
    "            print(\"\")"
   ]
  },
  {
   "cell_type": "markdown",
   "id": "afbf3657",
   "metadata": {},
   "source": [
    "# Bài 5 : Hàm chuyển đổi từ độ C sang F"
   ]
  },
  {
   "cell_type": "code",
   "execution_count": 13,
   "id": "cd1240ed",
   "metadata": {},
   "outputs": [],
   "source": [
    "def DoiF(c):\n",
    "    print(\"Do f: {}\".format(round((c*1.8)+32)))"
   ]
  },
  {
   "cell_type": "code",
   "execution_count": 14,
   "id": "a45f958f",
   "metadata": {},
   "outputs": [
    {
     "name": "stdout",
     "output_type": "stream",
     "text": [
      "Do f: 90\n"
     ]
    }
   ],
   "source": [
    "DoiF(32)"
   ]
  },
  {
   "cell_type": "markdown",
   "id": "253f10cf",
   "metadata": {},
   "source": [
    "# Bài 6 : Hàm chuyển đổi từ độ F sang C"
   ]
  },
  {
   "cell_type": "code",
   "execution_count": 11,
   "id": "d64c5c1d",
   "metadata": {},
   "outputs": [],
   "source": [
    "def DoiC(f):\n",
    "    return round((f-32)/1.8)"
   ]
  },
  {
   "cell_type": "code",
   "execution_count": 12,
   "id": "dc13386a",
   "metadata": {},
   "outputs": [
    {
     "data": {
      "text/plain": [
       "32"
      ]
     },
     "execution_count": 12,
     "metadata": {},
     "output_type": "execute_result"
    }
   ],
   "source": [
    "DoiC(89.7)"
   ]
  },
  {
   "cell_type": "markdown",
   "id": "86f60e20",
   "metadata": {},
   "source": [
    "# Bai 7: Dựng hàm chuyển 1 list km sang m"
   ]
  },
  {
   "cell_type": "code",
   "execution_count": 15,
   "id": "8c5f8a07",
   "metadata": {},
   "outputs": [],
   "source": [
    "def ConvM(km):\n",
    "    for i in km:\n",
    "        m = i *1000\n",
    "        print(m)"
   ]
  },
  {
   "cell_type": "code",
   "execution_count": 16,
   "id": "0acce48b",
   "metadata": {},
   "outputs": [
    {
     "name": "stdout",
     "output_type": "stream",
     "text": [
      "1000\n",
      "5000\n",
      "9000\n"
     ]
    }
   ],
   "source": [
    "ConvM([1,5,9])"
   ]
  },
  {
   "cell_type": "markdown",
   "id": "35100cd6",
   "metadata": {},
   "source": [
    "# Bài 8: Hàm tính giai thừa bằng đệ quy"
   ]
  },
  {
   "cell_type": "code",
   "execution_count": 17,
   "id": "c5598709",
   "metadata": {},
   "outputs": [],
   "source": [
    "def giaithua(n):\n",
    "    if n < 1:\n",
    "        print(\"n phai co gia tri lon hon 1\")\n",
    "        return\n",
    "    elif n == 1:\n",
    "        return 1\n",
    "    else:\n",
    "        return n*giaithua(n-1)"
   ]
  },
  {
   "cell_type": "code",
   "execution_count": 18,
   "id": "4209a5f5",
   "metadata": {},
   "outputs": [
    {
     "data": {
      "text/plain": [
       "1"
      ]
     },
     "execution_count": 18,
     "metadata": {},
     "output_type": "execute_result"
    }
   ],
   "source": [
    "giaithua(1)"
   ]
  },
  {
   "cell_type": "code",
   "execution_count": 19,
   "id": "4e86c535",
   "metadata": {},
   "outputs": [
    {
     "name": "stdout",
     "output_type": "stream",
     "text": [
      "n phai co gia tri lon hon 1\n"
     ]
    }
   ],
   "source": [
    "giaithua(0)"
   ]
  },
  {
   "cell_type": "code",
   "execution_count": 20,
   "id": "4bbb8351",
   "metadata": {},
   "outputs": [
    {
     "data": {
      "text/plain": [
       "120"
      ]
     },
     "execution_count": 20,
     "metadata": {},
     "output_type": "execute_result"
    }
   ],
   "source": [
    "giaithua(5)"
   ]
  },
  {
   "cell_type": "markdown",
   "id": "56263ffe",
   "metadata": {},
   "source": [
    "# Bài 9: Áp dụng đệ quy để xây dừng hàm chuyển Decimal --> Binary"
   ]
  },
  {
   "cell_type": "code",
   "execution_count": 21,
   "id": "b3e7f91a",
   "metadata": {},
   "outputs": [],
   "source": [
    "def ConvB(n):\n",
    "    if n>1: # B1: n > 1 sẽ chạy if\n",
    "        ConvB(n//2) # B1.1: Gọi lại hàm ConvB(là 1 hàm đệ quy được nhiều lần) với giá trị bị / 2 và làm tròn xuống\n",
    "    print(n%2,end=\" \")  # B2: thực hiện cùng lúc với B1, thực hiện chia 2 lấy phần dư  "
   ]
  },
  {
   "cell_type": "code",
   "execution_count": 22,
   "id": "49343b6f",
   "metadata": {},
   "outputs": [
    {
     "name": "stdout",
     "output_type": "stream",
     "text": [
      "1 0 1 "
     ]
    }
   ],
   "source": [
    "ConvB(5)"
   ]
  },
  {
   "cell_type": "markdown",
   "id": "b0b4ac39",
   "metadata": {},
   "source": [
    "# Bài 10: Xây dựng 1 hàm myMap(fn,c)\n",
    "## Trong đó:\n",
    "### - fn là 1 phép toán or hàm\n",
    "### - c là 1 đối tượng container(list)\n",
    "## Yêu cầu: Sau khi chạy hàm sẽ tạo ra 1 list mới với số lượng phần tử tương thích c"
   ]
  },
  {
   "cell_type": "code",
   "execution_count": 23,
   "id": "59c2a62d",
   "metadata": {},
   "outputs": [],
   "source": [
    "# Khởi tạo hàm truyền 2 đối số fn,c\n",
    "def myMap(fn,c):\n",
    "    newC= []  # Tạo ra 1 list mới rỗng\n",
    "    for i in c: # Khởi tạo for chạy từng vị trí trong list cũ c\n",
    "        newC.append(fn(i)) # add từ giá trị tại vị trí i vào list mới newC\n",
    "    return newC"
   ]
  },
  {
   "cell_type": "code",
   "execution_count": 24,
   "id": "9bdb1d7b",
   "metadata": {},
   "outputs": [
    {
     "data": {
      "text/plain": [
       "[3, 4, 5, 6, 7]"
      ]
     },
     "execution_count": 24,
     "metadata": {},
     "output_type": "execute_result"
    }
   ],
   "source": [
    "A =[1,2,3,4,5]\n",
    "myMap(lambda x:x+2,A) # lambda hàm ẩn danh set 1 formuala"
   ]
  },
  {
   "cell_type": "markdown",
   "id": "19651ea0",
   "metadata": {},
   "source": [
    "# Bài 11: Xây dựng 1 hàm myRuduce(fn,c)\n",
    "## Trong đó:\n",
    "### - fn là 1 phép toán or hàm\n",
    "### - c là 1 đối tượng container(list)\n",
    "## Yêu cầu: Sau khi chạy hàm sẽ tạo ra 1 phần tử mới theo yc"
   ]
  },
  {
   "cell_type": "code",
   "execution_count": 25,
   "id": "6c77a8d2",
   "metadata": {},
   "outputs": [],
   "source": [
    "def myReduce(fn,C):\n",
    "    reduceVal=0\n",
    "    for i in C:\n",
    "        reduceVal=fn(reduceVal,i)\n",
    "    return reduceVal"
   ]
  },
  {
   "cell_type": "code",
   "execution_count": 26,
   "id": "bb79a57e",
   "metadata": {},
   "outputs": [
    {
     "data": {
      "text/plain": [
       "5"
      ]
     },
     "execution_count": 26,
     "metadata": {},
     "output_type": "execute_result"
    }
   ],
   "source": [
    "A = [1,2,3,4,5]\n",
    "myReduce(lambda x,y: x if x > y else y,A)"
   ]
  },
  {
   "cell_type": "markdown",
   "id": "69955a24",
   "metadata": {},
   "source": [
    "# Bài 11: Xây dựng 1 hàm myFliter(fn,c)\n",
    "## Trong đó:\n",
    "### - fn là 1 phép toán or hàm\n",
    "### - c là 1 đối tượng container(list)\n",
    "## Yêu cầu: Sau khi chạy hàm sẽ lọc các phần tử theo yêu cầu"
   ]
  },
  {
   "cell_type": "code",
   "execution_count": 27,
   "id": "7ca6d06d",
   "metadata": {},
   "outputs": [],
   "source": [
    "def myFilter(fn,C):\n",
    "    newC=[]\n",
    "    for i in C:\n",
    "        if fn(i):\n",
    "            newC.append(i)\n",
    "    return newC"
   ]
  },
  {
   "cell_type": "code",
   "execution_count": 28,
   "id": "5f55bf68",
   "metadata": {},
   "outputs": [
    {
     "data": {
      "text/plain": [
       "[2, 4]"
      ]
     },
     "execution_count": 28,
     "metadata": {},
     "output_type": "execute_result"
    }
   ],
   "source": [
    "A = [1,2,3,4,5]\n",
    "myFilter(lambda i : i % 2 == 0, A)"
   ]
  },
  {
   "cell_type": "markdown",
   "id": "de9ba965",
   "metadata": {},
   "source": [
    "# Bài 13: Xây dựng danh sách theo yêu cầu\n",
    "## [1,2,3,4,5,6,7,8,9,10]\n",
    "## [1,3,5,7,9,11,13,15,17,19]\n",
    "## [1,6,11,16,21,26,31,36,41,46]"
   ]
  },
  {
   "cell_type": "code",
   "execution_count": 29,
   "id": "9275eb9a",
   "metadata": {},
   "outputs": [
    {
     "name": "stdout",
     "output_type": "stream",
     "text": [
      "[1, 2, 3, 4, 5, 6, 7, 8, 9, 10]\n"
     ]
    }
   ],
   "source": [
    "print([i for i in range(1,11)])"
   ]
  },
  {
   "cell_type": "code",
   "execution_count": 30,
   "id": "863b57b2",
   "metadata": {},
   "outputs": [
    {
     "data": {
      "text/plain": [
       "[1, 3, 5, 7, 9, 11, 13, 15, 17, 19]"
      ]
     },
     "execution_count": 30,
     "metadata": {},
     "output_type": "execute_result"
    }
   ],
   "source": [
    "[i for i in range(1,20) if i % 2 != 0]"
   ]
  },
  {
   "cell_type": "code",
   "execution_count": 31,
   "id": "81f2ad86",
   "metadata": {},
   "outputs": [
    {
     "data": {
      "text/plain": [
       "[1, 6, 11, 16, 21, 26, 31, 36, 41, 46]"
      ]
     },
     "execution_count": 31,
     "metadata": {},
     "output_type": "execute_result"
    }
   ],
   "source": [
    "[i for i in range(1,50,5)]"
   ]
  },
  {
   "cell_type": "markdown",
   "id": "7deb72f7",
   "metadata": {},
   "source": [
    "# Bài 14: Xây dựng danh sách theo yc\n",
    "## ['Q', 'H', 'O', 'L', 'I', 'N', 'E']\n",
    "## ['x', 'xx', 'xxx', 'xxxx', 'y', 'yy', 'yyy', 'yyyy', 'z', 'zz', 'zzz', 'zzzz']\n",
    "## ['x', 'y', 'z', 'xx', 'yy', 'zz', 'xx', 'yy', 'zz', 'xxxx', 'yyyy', 'zzzz']\n",
    "## [[2], [3], [4], [3], [4], [5], [4], [5], [6]]\n",
    "## [[2, 3, 4, 5], [3, 4, 5, 6], [4, 5, 6, 7], [5, 6, 7, 8]]\n",
    "## [(1, 1), (1, 2), (1, 3), (2, 1), (2, 2), (2, 3), (3, 1), (3, 2), (3, 3)]"
   ]
  },
  {
   "cell_type": "code",
   "execution_count": 32,
   "id": "1d99cf66",
   "metadata": {},
   "outputs": [
    {
     "data": {
      "text/plain": [
       "['Q', 'H', 'O', 'L', 'I', 'N', 'E']"
      ]
     },
     "execution_count": 32,
     "metadata": {},
     "output_type": "execute_result"
    }
   ],
   "source": [
    "[i for i in \"QHOLINE\"]"
   ]
  },
  {
   "cell_type": "code",
   "execution_count": 33,
   "id": "230e1ad1",
   "metadata": {},
   "outputs": [
    {
     "data": {
      "text/plain": [
       "['x', 'xx', 'xxx', 'xxxx', 'y', 'yy', 'yyy', 'yyyy', 'z', 'zz', 'zzz', 'zzzz']"
      ]
     },
     "execution_count": 33,
     "metadata": {},
     "output_type": "execute_result"
    }
   ],
   "source": [
    "[i*j for i in [\"x\",\"y\",\"z\"] for j in range(1,5)]"
   ]
  },
  {
   "cell_type": "code",
   "execution_count": 34,
   "id": "c7ea1b50",
   "metadata": {},
   "outputs": [
    {
     "data": {
      "text/plain": [
       "['x', 'y', 'z', 'xx', 'yy', 'zz', 'xx', 'yy', 'zz', 'xxxx', 'yyyy', 'zzzz']"
      ]
     },
     "execution_count": 34,
     "metadata": {},
     "output_type": "execute_result"
    }
   ],
   "source": [
    "[i*j*k for i in range(1,3) for j in range(1,3) for k in [\"x\",\"y\",\"z\"]]"
   ]
  },
  {
   "cell_type": "code",
   "execution_count": 35,
   "id": "fd931cc2",
   "metadata": {},
   "outputs": [
    {
     "name": "stdout",
     "output_type": "stream",
     "text": [
      "yy\n"
     ]
    }
   ],
   "source": [
    "print(\"y\"*2)"
   ]
  },
  {
   "cell_type": "code",
   "execution_count": 36,
   "id": "7d20a1c9",
   "metadata": {},
   "outputs": [
    {
     "data": {
      "text/plain": [
       "[[2], [3], [4], [3], [4], [5], [4], [5], [6]]"
      ]
     },
     "execution_count": 36,
     "metadata": {},
     "output_type": "execute_result"
    }
   ],
   "source": [
    "[[x+y] for x in range(1,4) for y in range(1,4)]"
   ]
  },
  {
   "cell_type": "code",
   "execution_count": 37,
   "id": "c4f38f00",
   "metadata": {},
   "outputs": [
    {
     "data": {
      "text/plain": [
       "[[2, 3, 4, 5], [3, 4, 5, 6], [4, 5, 6, 7], [5, 6, 7, 8]]"
      ]
     },
     "execution_count": 37,
     "metadata": {},
     "output_type": "execute_result"
    }
   ],
   "source": [
    "[[x+y for x in range(1,5)] for y in range(1,5)]"
   ]
  },
  {
   "cell_type": "code",
   "execution_count": 38,
   "id": "579f72f2",
   "metadata": {},
   "outputs": [
    {
     "data": {
      "text/plain": [
       "[(1, 1), (1, 2), (1, 3), (2, 1), (2, 2), (2, 3), (3, 1), (3, 2), (3, 3)]"
      ]
     },
     "execution_count": 38,
     "metadata": {},
     "output_type": "execute_result"
    }
   ],
   "source": [
    "[(x,y) for x in range(1,4) for y in range(1,4)]"
   ]
  },
  {
   "cell_type": "markdown",
   "id": "e4936d0f",
   "metadata": {},
   "source": [
    "# Bài 15: Xây dựng hàm đếm từ nào có nhiều ký tự nhất"
   ]
  },
  {
   "cell_type": "code",
   "execution_count": 44,
   "id": "7480b3ab",
   "metadata": {},
   "outputs": [],
   "source": [
    "def DemTu(n):\n",
    "    Tu=\"\"\n",
    "    for i in n:\n",
    "        if (len(i) > len(Tu)):\n",
    "            Tu=i\n",
    "    print(Tu)"
   ]
  },
  {
   "cell_type": "code",
   "execution_count": 45,
   "id": "91fdd22e",
   "metadata": {},
   "outputs": [
    {
     "name": "stdout",
     "output_type": "stream",
     "text": [
      "HAYDAY\n"
     ]
    }
   ],
   "source": [
    "A=[\"HAYDAY\",\"GAME\"]\n",
    "DemTu(A)"
   ]
  },
  {
   "cell_type": "markdown",
   "id": "60b4d891",
   "metadata": {},
   "source": [
    "# Bài: 16 Xây dựng hàm đếm ký tự số lần xuất hiện trong chuỗi"
   ]
  },
  {
   "cell_type": "code",
   "execution_count": 46,
   "id": "24f2bbeb",
   "metadata": {},
   "outputs": [],
   "source": [
    "def demkytu(n):\n",
    "    Chuoiduyet=\"bacdefghijklmnopqstruvwxzy\" # chuoi ky tu tren ban phim\n",
    "    alD = { c : 0 for c in Chuoiduyet} # duyet alD qua chuoi mau de luu het cac ky tu can doc\n",
    "    \n",
    "    outD = {} # Tao 1 chuoi rong de luu gia tri dem duoc\n",
    "    \n",
    "    for c in n: # Chay vong lap để c chạy trong chuỗi cần đếm n\n",
    "        if (c == \" \"):continue # Nếu c gặp giá trị blank bỏ qua và đọc tiếp tục\n",
    "        alD[c.lower()]+=1 # Nếu không gặp giá trị blank thì lấy giá trị chuỗi duyệt đếm lên 1\n",
    "    for k,v in alD.items(): # chạy for để k chạy trong các phần tử của alD\n",
    "        if (v >0): # nếu giá trị v tại k lớn hơn 0 thì chuỗi outD = giá trị v\n",
    "            outD[k]=v\n",
    "    print(outD)"
   ]
  },
  {
   "cell_type": "code",
   "execution_count": 47,
   "id": "ce581028",
   "metadata": {},
   "outputs": [
    {
     "name": "stdout",
     "output_type": "stream",
     "text": [
      "{'a': 2, 'c': 2, 'd': 1, 's': 1, 'x': 2, 'z': 3}\n"
     ]
    }
   ],
   "source": [
    "demkytu(\"zxcasdaczzx\")"
   ]
  }
 ],
 "metadata": {
  "kernelspec": {
   "display_name": "Python 3 (ipykernel)",
   "language": "python",
   "name": "python3"
  },
  "language_info": {
   "codemirror_mode": {
    "name": "ipython",
    "version": 3
   },
   "file_extension": ".py",
   "mimetype": "text/x-python",
   "name": "python",
   "nbconvert_exporter": "python",
   "pygments_lexer": "ipython3",
   "version": "3.9.12"
  }
 },
 "nbformat": 4,
 "nbformat_minor": 5
}
